{
 "cells": [
  {
   "cell_type": "code",
   "execution_count": 38,
   "id": "57af6cd7-941b-4103-81b2-da849b1792b8",
   "metadata": {},
   "outputs": [],
   "source": [
    "import pandas as pd\n",
    "import requests\n",
    "from sqlalchemy import create_engine, text\n",
    "from datetime import datetime"
   ]
  },
  {
   "cell_type": "code",
   "execution_count": 39,
   "id": "b9f8926a-7759-493c-965f-308bcacadf77",
   "metadata": {},
   "outputs": [
    {
     "name": "stdout",
     "output_type": "stream",
     "text": [
      "SQLAlchemy engine created successfully.\n"
     ]
    }
   ],
   "source": [
    "# ---- 1. Connection setup ----\n",
    "host_name = \"localhost\"\n",
    "host_ip = \"127.0.0.1\"\n",
    "port = \"3306\"\n",
    "user_id = \"root\"\n",
    "pwd = \"Peanut168996!\"\n",
    "db_name = \"shuttle_dw\"\n",
    "\n",
    "engine_str = f\"mysql+pymysql://{user_id}:{pwd}@{host_ip}:{port}/{db_name}\"\n",
    "engine = create_engine(engine_str)\n",
    "print(\"SQLAlchemy engine created successfully.\")"
   ]
  },
  {
   "cell_type": "code",
   "execution_count": 40,
   "id": "046ec19f-768b-48c9-84f6-d39fd41ec56c",
   "metadata": {},
   "outputs": [
    {
     "name": "stdout",
     "output_type": "stream",
     "text": [
      "Weather table ensured in database.\n"
     ]
    }
   ],
   "source": [
    "# ---- 2. Create Weather Table ----\n",
    "with engine.connect() as conn:\n",
    "    conn.execute(text(\"\"\"\n",
    "    CREATE TABLE IF NOT EXISTS weather (\n",
    "        weather_id INT AUTO_INCREMENT PRIMARY KEY,\n",
    "        city VARCHAR(50),\n",
    "        temperature FLOAT,\n",
    "        weather_condition VARCHAR(50),\n",
    "        weather_date DATE,\n",
    "        timestamp DATETIME\n",
    "    )\n",
    "    \"\"\"))\n",
    "    print(\"Weather table ensured in database.\")"
   ]
  },
  {
   "cell_type": "code",
   "execution_count": 41,
   "id": "3e921205-90a4-4894-8703-95a1583ef99c",
   "metadata": {},
   "outputs": [
    {
     "name": "stdout",
     "output_type": "stream",
     "text": [
      "Processed 2025-10-01\n",
      "Processed 2025-10-02\n",
      "Processed 2025-10-03\n",
      "Processed 2025-10-04\n",
      "Processed 2025-10-05\n",
      "Processed 2025-10-06\n",
      "Processed 2025-10-07\n",
      "Processed 2025-10-08\n",
      "Processed 2025-10-09\n",
      "Processed 2025-10-10\n",
      "Processed 2025-10-11\n",
      "Processed 2025-10-12\n",
      "Processed 2025-10-13\n",
      "Processed 2025-10-14\n",
      "Processed 2025-10-15\n",
      "Processed 2025-10-16\n",
      "Processed 2025-10-17\n",
      "Processed 2025-10-18\n",
      "Processed 2025-10-19\n",
      "Processed 2025-10-20\n",
      "Processed 2025-10-21\n",
      "Processed 2025-10-22\n",
      "Processed 2025-10-23\n",
      "Processed 2025-10-24\n",
      "Processed 2025-10-25\n",
      "Processed 2025-10-26\n",
      "Processed 2025-10-27\n",
      "Failed to fetch data for 2025-10-28: 400\n",
      "Failed to fetch data for 2025-10-29: 400\n",
      "Failed to fetch data for 2025-10-30: 400\n",
      "Failed to fetch data for 2025-10-31: 400\n",
      "All October 2025 weather data inserted successfully!\n"
     ]
    }
   ],
   "source": [
    "import requests\n",
    "from datetime import datetime, timedelta, timezone\n",
    "from collections import Counter\n",
    "from sqlalchemy import create_engine, text\n",
    "\n",
    "CITY = \"Charlottesville\"\n",
    "API_KEY = \"18dd66c10f49da0b308a44c2709d8a5c\"\n",
    "lat = 38.0293\n",
    "lon = -78.4767\n",
    "\n",
    "# Start and end dates for October 2025\n",
    "start_date = datetime(2025, 10, 1)\n",
    "end_date = datetime(2025, 10, 31)\n",
    "\n",
    "current_date = start_date\n",
    "weather_records = []\n",
    "\n",
    "while current_date <= end_date:\n",
    "    # Unix timestamps for the start of the day\n",
    "    start_ts = int(current_date.replace(tzinfo=timezone.utc).timestamp())\n",
    "    \n",
    "    url = f\"https://history.openweathermap.org/data/2.5/history/city?lat={lat}&lon={lon}&type=hour&start={start_ts}&appid={API_KEY}\"\n",
    "    response = requests.get(url)\n",
    "    \n",
    "    if response.status_code == 200:\n",
    "        data = response.json()\n",
    "        hourly_list = data.get(\"list\", [])\n",
    "        if not hourly_list:\n",
    "            print(f\"No data for {current_date.date()}\")\n",
    "            current_date += timedelta(days=1)\n",
    "            continue\n",
    "        \n",
    "        # Aggregate daily\n",
    "        temps = [hour[\"main\"][\"temp\"] for hour in hourly_list]\n",
    "        conditions = [hour[\"weather\"][0][\"main\"] for hour in hourly_list]\n",
    "        avg_temp = sum(temps) / len(temps)\n",
    "        most_common_condition = Counter(conditions).most_common(1)[0][0]\n",
    "        \n",
    "        weather_records.append({\n",
    "            \"city\": CITY,\n",
    "            \"temperature\": round(avg_temp, 2),\n",
    "            \"weather_condition\": most_common_condition,\n",
    "            \"weather_date\": current_date.date(),\n",
    "            \"timestamp\": datetime.now(timezone.utc)\n",
    "        })\n",
    "        \n",
    "        print(f\"Processed {current_date.date()}\")\n",
    "    else:\n",
    "        print(f\"Failed to fetch data for {current_date.date()}: {response.status_code}\")\n",
    "    \n",
    "    current_date += timedelta(days=1)\n",
    "\n",
    "# Insert all days into MySQL\n",
    "with engine.begin() as conn:\n",
    "    for record in weather_records:\n",
    "        conn.execute(\n",
    "            text(\"\"\"\n",
    "                INSERT INTO weather (city, temperature, weather_condition, weather_date, timestamp)\n",
    "                VALUES (:city, :temperature, :weather_condition, :weather_date, :timestamp)\n",
    "            \"\"\"),\n",
    "            record\n",
    "        )\n",
    "\n",
    "print(\"All October 2025 weather data inserted successfully!\")\n"
   ]
  },
  {
   "cell_type": "code",
   "execution_count": 46,
   "id": "be483447-2326-4228-92cc-304a264fea73",
   "metadata": {},
   "outputs": [
    {
     "name": "stdout",
     "output_type": "stream",
     "text": [
      "Weather table temperatures converted to Fahrenheit.\n"
     ]
    }
   ],
   "source": [
    "# ---- Update weather table: convert Kelvin to Fahrenheit ----\n",
    "update_query = \"\"\"\n",
    "UPDATE weather\n",
    "SET temperature = ROUND((temperature - 273.15) * 9/5 + 32, 2);\n",
    "\"\"\"\n",
    "\n",
    "with engine.connect() as conn:\n",
    "    conn.execute(text(update_query))\n",
    "    conn.commit()  # commit changes\n",
    "    print(\"Weather table temperatures converted to Fahrenheit.\")\n"
   ]
  },
  {
   "cell_type": "code",
   "execution_count": 47,
   "id": "29426fdb-1bec-4123-b56d-95756c12d0a8",
   "metadata": {},
   "outputs": [
    {
     "name": "stdout",
     "output_type": "stream",
     "text": [
      "          day  temperature weather_condition  vehicle_id vehicle_type  \\\n",
      "0  2025-10-01        65.48             Clear         101          bus   \n",
      "1  2025-10-01        65.48             Clear         102        ejest   \n",
      "2  2025-10-02        58.80             Clear         103          van   \n",
      "3  2025-10-02        58.80             Clear         104          car   \n",
      "4  2025-10-03        59.29             Clear         105          bus   \n",
      "\n",
      "  total_passengers  \n",
      "0               32  \n",
      "1               18  \n",
      "2               28  \n",
      "3                4  \n",
      "4               36  \n"
     ]
    }
   ],
   "source": [
    "from sqlalchemy import text\n",
    "import pandas as pd\n",
    "\n",
    "# ---- Query: passengers by day, temperature, weather, and vehicle ----\n",
    "query = \"\"\"\n",
    "SELECT\n",
    "    d.full_date AS day,\n",
    "    w.temperature,\n",
    "    w.weather_condition,\n",
    "    v.vehicle_id,\n",
    "    v.vehicle_type,\n",
    "    SUM(f.passengers) AS total_passengers\n",
    "FROM fact_passenger_counts f\n",
    "JOIN dim_date d ON f.date_key = d.date_key\n",
    "JOIN weather w ON d.full_date = w.weather_date\n",
    "JOIN dim_vehicle v ON f.vehicle_id = v.vehicle_id\n",
    "GROUP BY d.full_date, w.temperature, w.weather_condition, v.vehicle_id, v.vehicle_type\n",
    "ORDER BY d.full_date, v.vehicle_id;\n",
    "\"\"\"\n",
    "\n",
    "# ---- Execute query ----\n",
    "with engine.connect() as conn:\n",
    "    result = conn.execute(text(query))\n",
    "    df_passenger_weather = pd.DataFrame(result.fetchall(), columns=result.keys())\n",
    "\n",
    "# ---- Display results ----\n",
    "print(df_passenger_weather.head())\n"
   ]
  }
 ],
 "metadata": {
  "kernelspec": {
   "display_name": "Python (DS-2002)",
   "language": "python",
   "name": "ds-2002"
  },
  "language_info": {
   "codemirror_mode": {
    "name": "ipython",
    "version": 3
   },
   "file_extension": ".py",
   "mimetype": "text/x-python",
   "name": "python",
   "nbconvert_exporter": "python",
   "pygments_lexer": "ipython3",
   "version": "3.13.5"
  }
 },
 "nbformat": 4,
 "nbformat_minor": 5
}
